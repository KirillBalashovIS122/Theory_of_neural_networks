{
 "cells": [
  {
   "cell_type": "code",
   "execution_count": null,
   "metadata": {
    "vscode": {
     "languageId": "plaintext"
    }
   },
   "outputs": [],
   "source": [
    "!pip install ipywidgets pretty_midi pyfluidsynth\n",
    "\n",
    "import ipywidgets as widgets\n",
    "from IPython.display import display, clear_output\n",
    "from train import models\n",
    "from generate import generate_music\n",
    "from utils import play_midi\n",
    "\n",
    "# Выбор модели\n",
    "model_selector = widgets.Dropdown(\n",
    "    options=list(models.keys()),\n",
    "    description=\"Модель:\",\n",
    "    disabled=False\n",
    ")\n",
    "\n",
    "# Поле для ввода длины генерируемой последовательности\n",
    "length_slider = widgets.IntSlider(\n",
    "    value=500,\n",
    "    min=100,\n",
    "    max=1000,\n",
    "    step=100,\n",
    "    description=\"Длина:\",\n",
    "    disabled=False\n",
    ")\n",
    "\n",
    "# Поле для ввода начальной последовательности\n",
    "seed_text = widgets.Textarea(\n",
    "    value=\"60, 62, 64, 65\",  # Пример начальной последовательности\n",
    "    description=\"Начальная последовательность:\",\n",
    "    disabled=False\n",
    ")\n",
    "\n",
    "# Кнопка для генерации музыки\n",
    "generate_button = widgets.Button(description=\"Сгенерировать музыку\")\n",
    "\n",
    "# Поле для вывода результата\n",
    "output = widgets.Output()\n",
    "\n",
    "# Обработчик нажатия кнопки\n",
    "def on_generate_button_clicked(b):\n",
    "    with output:\n",
    "        clear_output()\n",
    "        print(\"Генерация музыки...\")\n",
    "        \n",
    "        # Получаем выбранную модель\n",
    "        selected_model = models[model_selector.value]\n",
    "        \n",
    "        # Преобразуем начальную последовательность в список нот\n",
    "        seed_sequence = list(map(int, seed_text.value.split(',')))\n",
    "        \n",
    "        # Генерация музыки\n",
    "        generated_music = generate_music(selected_model, seed_sequence, length_slider.value)\n",
    "        \n",
    "        # Воспроизведение музыки\n",
    "        print(\"Воспроизведение музыки...\")\n",
    "        play_midi(generated_music)\n",
    "        print(\"Готово!\")\n",
    "\n",
    "# Привязка обработчика к кнопке\n",
    "generate_button.on_click(on_generate_button_clicked)\n",
    "\n",
    "# Отображение интерфейса\n",
    "display(model_selector, length_slider, seed_text, generate_button, output)"
   ]
  }
 ],
 "metadata": {
  "language_info": {
   "name": "python"
  }
 },
 "nbformat": 4,
 "nbformat_minor": 2
}
